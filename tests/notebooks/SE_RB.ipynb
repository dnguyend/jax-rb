{
  "nbformat": 4,
  "nbformat_minor": 0,
  "metadata": {
    "colab": {
      "provenance": [],
      "authorship_tag": "ABX9TyPZGnvZdr15t0KjNwXbkmAs",
      "include_colab_link": true
    },
    "kernelspec": {
      "name": "python3",
      "display_name": "Python 3"
    },
    "language_info": {
      "name": "python"
    }
  },
  "cells": [
    {
      "cell_type": "markdown",
      "metadata": {
        "id": "view-in-github",
        "colab_type": "text"
      },
      "source": [
        "<a href=\"https://colab.research.google.com/github/dnguyend/jax-rb/blob/main/tests/notebooks/SE_RB.ipynb\" target=\"_parent\"><img src=\"https://colab.research.google.com/assets/colab-badge.svg\" alt=\"Open In Colab\"/></a>"
      ]
    },
    {
      "cell_type": "markdown",
      "source": [
        "# TESTING RIEMANNIAN BROWNIAN MOTION on the SPECIAL EUCLIDEAN MANIFOLD\n",
        "  * Since the package is not yet on pypi, using the dialog box below. Otherwse, on a terminal, download the repository then install locally.\n",
        "  \n",
        "\n",
        "  We show it step by step here, for other groups we will run one python script in folder tests (eg python test_so.py).\n"
      ],
      "metadata": {
        "id": "MUJswQQKwQkY"
      }
    },
    {
      "cell_type": "code",
      "source": [
        "\n",
        "!pip install git+https://github.com/dnguyend/jax-rb\n"
      ],
      "metadata": {
        "colab": {
          "base_uri": "https://localhost:8080/"
        },
        "id": "wpJ5PwCM-CIa",
        "outputId": "df11fa39-5c1c-45ce-d82a-bf1ebfacfbbc"
      },
      "execution_count": 5,
      "outputs": [
        {
          "output_type": "stream",
          "name": "stdout",
          "text": [
            "Collecting git+https://github.com/dnguyend/jax-rb\n",
            "  Cloning https://github.com/dnguyend/jax-rb to /tmp/pip-req-build-wa1xleye\n",
            "  Running command git clone --filter=blob:none --quiet https://github.com/dnguyend/jax-rb /tmp/pip-req-build-wa1xleye\n",
            "  Resolved https://github.com/dnguyend/jax-rb to commit 1cd0274fe4a7808190deb9eee715703a4dd12d09\n",
            "  Installing build dependencies ... \u001b[?25l\u001b[?25hdone\n",
            "  Getting requirements to build wheel ... \u001b[?25l\u001b[?25hdone\n",
            "  Installing backend dependencies ... \u001b[?25l\u001b[?25hdone\n",
            "  Preparing metadata (pyproject.toml) ... \u001b[?25l\u001b[?25hdone\n",
            "Requirement already satisfied: jax in /usr/local/lib/python3.10/dist-packages (from jax_rb==0.1.dev34+g1cd0274) (0.4.26)\n",
            "Requirement already satisfied: ml-dtypes>=0.2.0 in /usr/local/lib/python3.10/dist-packages (from jax->jax_rb==0.1.dev34+g1cd0274) (0.2.0)\n",
            "Requirement already satisfied: numpy>=1.22 in /usr/local/lib/python3.10/dist-packages (from jax->jax_rb==0.1.dev34+g1cd0274) (1.25.2)\n",
            "Requirement already satisfied: opt-einsum in /usr/local/lib/python3.10/dist-packages (from jax->jax_rb==0.1.dev34+g1cd0274) (3.3.0)\n",
            "Requirement already satisfied: scipy>=1.9 in /usr/local/lib/python3.10/dist-packages (from jax->jax_rb==0.1.dev34+g1cd0274) (1.11.4)\n",
            "Building wheels for collected packages: jax_rb\n",
            "  Building wheel for jax_rb (pyproject.toml) ... \u001b[?25l\u001b[?25hdone\n",
            "  Created wheel for jax_rb: filename=jax_rb-0.1.dev34+g1cd0274-py3-none-any.whl size=33202 sha256=0d4e8fb124b122dea7061165a5f2efb8b4844e3536f9e732fe97652cf0d1a535\n",
            "  Stored in directory: /tmp/pip-ephem-wheel-cache-ftl7z_e4/wheels/0f/76/88/65e675f8bcca47be98c588d9a787a4c1c9b0a5044517ba6490\n",
            "Successfully built jax_rb\n",
            "Installing collected packages: jax_rb\n",
            "Successfully installed jax_rb-0.1.dev34+g1cd0274\n"
          ]
        }
      ]
    },
    {
      "cell_type": "code",
      "execution_count": 6,
      "metadata": {
        "id": "QYVLILrQRLLO"
      },
      "outputs": [],
      "source": [
        "import jax\n",
        "import jax.numpy as jnp\n",
        "from jax import random, jvp, grad\n",
        "\n",
        "from jax_rb.manifolds.se_left_invariant import SELeftInvariant\n",
        "from jax_rb.utils.utils import (grand, sym, rand_positive_definite)\n",
        "jax.config.update(\"jax_enable_x64\", True)"
      ]
    },
    {
      "cell_type": "markdown",
      "source": [
        "## Test that inv_g_metric is invert of g, and $g$ is the operator representing inner"
      ],
      "metadata": {
        "id": "bn1DIGtQvPQ1"
      }
    },
    {
      "cell_type": "code",
      "source": [
        "\n",
        "key = random.PRNGKey(0)\n",
        "\n",
        "n = 4\n",
        "\n",
        "metric_mat, key = rand_positive_definite(key, (n*(n+1))//2)\n",
        "mnf = SELeftInvariant(n, metric_mat)\n",
        "\n",
        "x, key = mnf.rand_point(key)\n",
        "print(\"check that rand_point generate a point on the manifold\")\n",
        "\n",
        "print(x[:-1, :-1]@x[:-1, :-1].T - jnp.eye(n))\n",
        "\n",
        "v, key = mnf.rand_vec(key, x)\n",
        "\n",
        "print(\"check that rand_vec generate a tangent vector\")\n",
        "print(sym(x[:-1, :-1].T@v[:-1, :-1]))\n",
        "\n",
        "# check metric compatibility\n",
        "va, key = mnf.rand_vec(key, x)\n",
        "vb, key = mnf.rand_vec(key, x)\n",
        "omg, key = mnf.rand_ambient(key)\n",
        "\n",
        "omg1 = mnf.g_metric(x, omg)\n",
        "omg2 = mnf.inv_g_metric(x, omg1)\n",
        "print(\"This is the difference betwen omg and g^{-1}g omg\")\n",
        "print(omg2 - omg)\n",
        "print(\"This is the difference betwen va^Tg omg and  inner(va, omg)\")\n",
        "print(jnp.sum(va*omg1) - mnf.inner(x, va, omg))\n",
        "\n"
      ],
      "metadata": {
        "colab": {
          "base_uri": "https://localhost:8080/"
        },
        "id": "mIbxYgIAvuRx",
        "outputId": "7c0babb2-adfd-4f3d-da09-b702db82e8ca"
      },
      "execution_count": 7,
      "outputs": [
        {
          "output_type": "stream",
          "name": "stdout",
          "text": [
            "check that rand_point generate a point on the manifold\n",
            "[[ 4.44089210e-16 -4.44089210e-16 -3.53883589e-16 -1.52655666e-16]\n",
            " [-4.44089210e-16  4.44089210e-16  1.11022302e-16 -2.77555756e-17]\n",
            " [-3.53883589e-16  1.11022302e-16  4.44089210e-16  1.11022302e-16]\n",
            " [-1.52655666e-16 -2.77555756e-17  1.11022302e-16 -1.11022302e-16]]\n",
            "check that rand_vec generate a tangent vector\n",
            "[[ 7.77156117e-16  1.11022302e-16 -8.32667268e-17 -2.08166817e-16]\n",
            " [ 1.11022302e-16 -5.55111512e-16 -3.19189120e-16 -1.66533454e-16]\n",
            " [-8.32667268e-17 -3.19189120e-16 -2.22044605e-16  5.55111512e-17]\n",
            " [-2.08166817e-16 -1.66533454e-16  5.55111512e-17  1.11022302e-16]]\n",
            "This is the difference betwen omg and g^{-1}g omg\n",
            "[[ 4.16333634e-14 -4.22994972e-14  2.31481501e-13 -3.76365605e-14\n",
            "  -2.38420395e-14]\n",
            " [-1.98063788e-13  3.75255382e-14 -2.24265051e-13 -1.51406665e-13\n",
            "  -2.05391260e-14]\n",
            " [ 1.72084569e-13  1.22624133e-13 -2.16576757e-13 -4.25659508e-13\n",
            "   6.86672941e-14]\n",
            " [ 1.70974346e-14 -5.32907052e-14  5.41788836e-14 -2.21378471e-13\n",
            "  -1.17683641e-14]\n",
            " [-1.55930824e-13  2.19546603e-14 -8.66633154e-14  3.69704267e-14\n",
            "  -1.48769885e-14]]\n",
            "This is the difference betwen va^Tg omg and  inner(va, omg)\n",
            "1.4210854715202004e-14\n"
          ]
        }
      ]
    },
    {
      "cell_type": "markdown",
      "source": [
        "# test retraction"
      ],
      "metadata": {
        "id": "3f9BRk-Gq1gt"
      }
    },
    {
      "cell_type": "code",
      "source": [
        "xa = mnf.retract(x, va)\n",
        "xa[:-1, :-1].T@xa[:-1, :-1]"
      ],
      "metadata": {
        "id": "40k2YpNKq0XF",
        "outputId": "1ed39600-e799-47f6-b1cd-09dc37d8c6af",
        "colab": {
          "base_uri": "https://localhost:8080/"
        }
      },
      "execution_count": 8,
      "outputs": [
        {
          "output_type": "execute_result",
          "data": {
            "text/plain": [
              "Array([[ 1.00000000e+00, -1.22124533e-15, -1.53262819e-15,\n",
              "         1.45022883e-15],\n",
              "       [-1.22124533e-15,  1.00000000e+00,  1.66533454e-16,\n",
              "        -8.81239526e-16],\n",
              "       [-1.53262819e-15,  1.66533454e-16,  1.00000000e+00,\n",
              "        -4.99600361e-16],\n",
              "       [ 1.45022883e-15, -8.81239526e-16, -4.99600361e-16,\n",
              "         1.00000000e+00]], dtype=float64)"
            ]
          },
          "metadata": {},
          "execution_count": 8
        }
      ]
    },
    {
      "cell_type": "markdown",
      "source": [
        "Now check that the projection and connection are metric compatible.\n",
        "\n",
        "The first print shows $\\langle\\omega, v_a\\rangle_{g} = \\langle\\Pi(x)\\omega, v_a\\rangle_{g}$, if $v_a$ is a tangent vector at $x\\in\\mathcal{M}$.\n",
        "\n",
        "The second and third prints shows\n",
        "$$D_{v_a}\\Pi(x)\\langle v_b,  \\Pi(x)v_b\\rangle_{g} = 2 \\langle v_b, D_{v_a}\\Pi(x)v_b + \\Gamma(x; v_a, v_b)\\rangle_{g}\n",
        "$$\n",
        "The last print checks the connection represents a tangent vector\n",
        "$$x^{-1}(D_{v_a}\\Pi(x)v_b + \\Gamma(x; v_a, v_b))\\in T_I SE(n)\n",
        "$$\n"
      ],
      "metadata": {
        "id": "umfUNVfXwe8v"
      }
    },
    {
      "cell_type": "code",
      "source": [
        "\n",
        "print(mnf.inner(x, omg, va) - mnf.inner(x, mnf.proj(x, omg), va))\n",
        "\n",
        "print(jvp(lambda x: mnf.inner(x, mnf.proj(x, vb), mnf.proj(x, vb)), (x,), (va,))[1])\n",
        "print(2*mnf.inner(x, vb,\n",
        "                  jvp(lambda x: mnf.proj(x, vb), (x,), (va,))[1]\n",
        "                  + mnf.gamma(x, va, vb)))\n",
        "\n",
        "D1 = jvp(lambda x: mnf.proj(x, vb), (x,), (va,))[1] + mnf.gamma(x, va, vb)\n",
        "print(sym(x[:-1, :-1].T@D1[:-1, :-1]))\n",
        "\n"
      ],
      "metadata": {
        "colab": {
          "base_uri": "https://localhost:8080/"
        },
        "id": "Hp0BDZJowmDX",
        "outputId": "512769b6-7d7d-44c7-9c7d-9b66611dabce"
      },
      "execution_count": 9,
      "outputs": [
        {
          "output_type": "stream",
          "name": "stdout",
          "text": [
            "0.0\n",
            "-68.72337600288301\n",
            "-68.72337600290322\n",
            "[[ 2.02504680e-13  2.55795385e-13 -7.95807864e-13 -5.11590770e-13]\n",
            " [ 2.55795385e-13  7.10542736e-14 -3.41060513e-13 -4.12114787e-13]\n",
            " [-7.95807864e-13 -3.41060513e-13 -7.95807864e-13  1.13686838e-13]\n",
            " [-5.11590770e-13 -4.12114787e-13  1.13686838e-13  4.54747351e-13]]\n"
          ]
        }
      ]
    },
    {
      "cell_type": "markdown",
      "source": [
        "# check the stratonovich and the ito drift given in the library is the same as the summation in the main theorem."
      ],
      "metadata": {
        "id": "NJU1ag3Qw4zn"
      }
    },
    {
      "cell_type": "code",
      "source": [
        "def check_v0(self):\n",
        "    p, i_sqrt_mat = self.shape[0], self._i_sqrt_g_mat\n",
        "    vv = jnp.zeros((p, p))\n",
        "    zr = jnp.zeros((p, p))\n",
        "    for i in range(1, p-1):\n",
        "        for j in range(i):\n",
        "            eij = zr.at[i, j].set(1.).at[j, i].set(-1.)\n",
        "            eij = 1/jnp.sqrt(2)*self._mat_apply(i_sqrt_mat, eij)\n",
        "            vv += eij@eij + self.gamma(jnp.eye(p), eij, eij)\n",
        "    for i in range(p-1):\n",
        "        eij = self._mat_apply(i_sqrt_mat, zr.at[i, -1].set(1.))\n",
        "        vv += eij@eij + self.gamma(jnp.eye(p), eij, eij)\n",
        "\n",
        "    return -0.5*vv\n",
        "print(check_v0(mnf))\n",
        "print(mnf.v0)\n",
        "\n",
        "def check_ito_drift(self, x):\n",
        "    s1 = self.ito_drift(x)\n",
        "    n, p = self.shape\n",
        "    s = jnp.zeros((n, p))\n",
        "    for i in range(n):\n",
        "        for j in range(p):\n",
        "            eij = jnp.zeros(self.shape).at[i, j].set(1.)\n",
        "            s -= self.gamma(x, eij, self.proj(x, self.inv_g_metric(x, eij)))\n",
        "    print(2*s1 - s)\n",
        "check_ito_drift(mnf, x)\n"
      ],
      "metadata": {
        "colab": {
          "base_uri": "https://localhost:8080/"
        },
        "id": "ZzWoHvlcv3nO",
        "outputId": "165a4bcb-1a19-4842-ad2b-585b43ec59a1"
      },
      "execution_count": 10,
      "outputs": [
        {
          "output_type": "stream",
          "name": "stdout",
          "text": [
            "[[-2.77555756e-17  4.97379915e-14  5.79092330e-13  4.86721774e-13\n",
            "  -5.50670620e-13]\n",
            " [-4.97379915e-14  6.93889390e-17  3.05533376e-13  3.46389584e-14\n",
            "   1.68753900e-13]\n",
            " [-5.79092330e-13 -3.05533376e-13 -0.00000000e+00  9.37916411e-13\n",
            "  -2.06057393e-13]\n",
            " [-4.83169060e-13 -3.37507799e-14 -9.37916411e-13  6.93889390e-17\n",
            "   2.99316127e-13]\n",
            " [-0.00000000e+00 -0.00000000e+00 -0.00000000e+00 -0.00000000e+00\n",
            "  -0.00000000e+00]]\n",
            "[[-0. -0. -0. -0. -0.]\n",
            " [-0. -0. -0. -0. -0.]\n",
            " [-0. -0. -0. -0. -0.]\n",
            " [-0. -0. -0. -0. -0.]\n",
            " [-0. -0. -0. -0. -0.]]\n",
            "[[-7.28306304e-14  2.67341704e-13  7.44293516e-13 -1.20792265e-13\n",
            "  -1.49213975e-13]\n",
            " [ 2.33035813e-13  2.08610906e-13  1.81188398e-13 -3.14415161e-13\n",
            "  -1.04805054e-13]\n",
            " [-6.39488462e-14 -4.92939023e-14  4.44089210e-14 -5.70210545e-13\n",
            "   6.20392626e-13]\n",
            " [-1.40332190e-13  2.50910404e-13 -4.47641924e-13 -4.59188243e-13\n",
            "   3.13526982e-13]\n",
            " [-8.60422844e-16 -4.16333634e-16 -7.49400542e-16 -5.68989300e-16\n",
            "   0.00000000e+00]]\n"
          ]
        }
      ]
    },
    {
      "cell_type": "markdown",
      "source": [
        "* Testing the Laplacian. We construct a scalar function of degree 4, then compute the Laplace Beltrami operator from the definition (as a summation\n",
        "$\\sum \\langle \\xi_i, \\nabla_{\\xi_i} rgrad_f\\rangle_{g}\n",
        "$ over a locally orthogonal basis $\\xi_i$, versus the Laplace-Beltrami operator given by the library."
      ],
      "metadata": {
        "id": "rZ2pwn0J2KqB"
      }
    },
    {
      "cell_type": "code",
      "source": [
        "# now test Laplacian\n",
        "\n",
        "f1, key = grand(key, (n+1, n+1))\n",
        "f2, key = grand(key, ((n+1)**2, (n+1)**2))\n",
        "f3, key = grand(key, ((n+1)**2, (n+1)**2))\n",
        "\n",
        "@jax.jit\n",
        "def f(U):\n",
        "    return jnp.sum(f1*U) + jnp.sum(U.reshape(-1)*(f2@U.reshape(-1))) \\\n",
        "        + jnp.sum(U.reshape(-1)*(f3@U.reshape(-1)))**2\n",
        "\n",
        "egradf = jax.jit(jax.grad(f))\n",
        "\n",
        "@jax.jit\n",
        "def ehessf(U, omg):\n",
        "    return jvp(egradf, (U,), (omg,))[1]\n",
        "\n",
        "def lb_test(self, x, f):\n",
        "    n1 = self.shape[0]\n",
        "    isqrt2 = 1/jnp.sqrt(2)\n",
        "    ret = 0\n",
        "    rgradf = jax.jit(lambda x: self.proj(\n",
        "        x,\n",
        "        self.inv_g_metric(x, grad(f)(x))))\n",
        "    zr = jnp.zeros((n1, n1))\n",
        "    for i in range(1, n1-1):\n",
        "        for j in range(i):\n",
        "            vij = self.left_invariant_vector_field(x,\n",
        "                                                    isqrt2*zr.at[i, j].set(1.).at[j, i].set(-1))\n",
        "            tmp = jvp(rgradf, (x,), (vij,))\n",
        "            nxi = tmp[1] + self.gamma(x, vij, tmp[0])\n",
        "            ret += self.inner(x, vij, nxi)\n",
        "    for i in range(n1-1):\n",
        "        vij = self.left_invariant_vector_field(x, zr.at[i, -1].set(1.))\n",
        "        tmp = jvp(rgradf, (x,), (vij,))\n",
        "        nxi = tmp[1] + self.gamma(x, vij, tmp[0])\n",
        "        ret += self.inner(x, vij, nxi)\n",
        "\n",
        "    return ret\n",
        "\n",
        "print(lb_test(mnf, x, f))\n",
        "print(mnf.laplace_beltrami(x, egradf(x), ehessf))\n",
        "\n",
        "\n",
        "\n"
      ],
      "metadata": {
        "colab": {
          "base_uri": "https://localhost:8080/"
        },
        "id": "lVTLhcNkxJcm",
        "outputId": "4f21bcd4-75d5-4b1e-ef24-5ece8240db39"
      },
      "execution_count": 11,
      "outputs": [
        {
          "output_type": "stream",
          "name": "stdout",
          "text": [
            "2098.291025538745\n",
            "2098.2910255389975\n"
          ]
        }
      ]
    }
  ]
}