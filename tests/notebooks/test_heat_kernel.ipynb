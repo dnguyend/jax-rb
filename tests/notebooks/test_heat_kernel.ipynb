{
  "nbformat": 4,
  "nbformat_minor": 0,
  "metadata": {
    "colab": {
      "provenance": [],
      "authorship_tag": "ABX9TyOCfC1fl0K6IaJXDtu7mHgW",
      "include_colab_link": true
    },
    "kernelspec": {
      "name": "python3",
      "display_name": "Python 3"
    },
    "language_info": {
      "name": "python"
    }
  },
  "cells": [
    {
      "cell_type": "markdown",
      "metadata": {
        "id": "view-in-github",
        "colab_type": "text"
      },
      "source": [
        "<a href=\"https://colab.research.google.com/github/dnguyend/jax-rb/blob/main/tests/notebooks/test_heat_kernel.ipynb\" target=\"_parent\"><img src=\"https://colab.research.google.com/assets/colab-badge.svg\" alt=\"Open In Colab\"/></a>"
      ]
    },
    {
      "cell_type": "markdown",
      "source": [
        "The heat kernel for the sphere is expressible as theta function.\n",
        "The heat kernels are implemented in * heat_kernels.py*, currently in jax-rb/tests/utils. This is for testing only, we want to avoid  having a dependency on mpmath - we clone the project then point to the module location explicitly"
      ],
      "metadata": {
        "id": "F7g9-WSNROzp"
      }
    },
    {
      "cell_type": "code",
      "execution_count": 2,
      "metadata": {
        "colab": {
          "base_uri": "https://localhost:8080/"
        },
        "id": "RQ7cCzQdQ5-P",
        "outputId": "0be91617-ef9d-42aa-acc2-c27af0698c8b"
      },
      "outputs": [
        {
          "output_type": "stream",
          "name": "stdout",
          "text": [
            "Cloning into 'jax-rb'...\n",
            "remote: Enumerating objects: 254, done.\u001b[K\n",
            "remote: Counting objects: 100% (254/254), done.\u001b[K\n",
            "remote: Compressing objects: 100% (172/172), done.\u001b[K\n",
            "remote: Total 254 (delta 126), reused 167 (delta 76), pack-reused 0\u001b[K\n",
            "Receiving objects: 100% (254/254), 2.76 MiB | 17.79 MiB/s, done.\n",
            "Resolving deltas: 100% (126/126), done.\n",
            "Requirement already satisfied: mpmath in /usr/local/lib/python3.10/dist-packages (1.3.0)\n"
          ]
        }
      ],
      "source": [
        "!git clone https://github.com/dnguyend/jax-rb\n",
        "!pip install mpmath"
      ]
    },
    {
      "cell_type": "code",
      "source": [
        "import sys\n",
        "sys.path.append(\"/content/jax-rb/\")\n",
        "sys.path.append(\"/content/jax-rb/tests/utils\")\n",
        "\n",
        "# !wget https://github.com/dnguyend/jax-rb/blob/main/tests/utils/heat_kernels.py"
      ],
      "metadata": {
        "id": "T10jmmEE7x_J"
      },
      "execution_count": 3,
      "outputs": []
    },
    {
      "cell_type": "code",
      "source": [
        "# !curl https://github.com/dnguyend/jax-rb/blob/main/tests/utils/heat_kernels.py"
      ],
      "metadata": {
        "id": "jkqbSD7OwACG"
      },
      "execution_count": null,
      "outputs": []
    },
    {
      "cell_type": "code",
      "source": [
        "\n",
        "import jax\n",
        "import jax.numpy as jnp\n",
        "import jax.scipy.integrate as jsi\n",
        "from jax import random\n",
        "\n",
        "import numpy as np\n",
        "\n",
        "\n",
        "\n",
        "import heat_kernels as hkm\n",
        "import jax_rb.simulation.simulator as sim\n",
        "import jax_rb.simulation.global_manifold_integrator as mi\n",
        "\n",
        "from jax_rb.manifolds.sphere import Sphere\n",
        "\n",
        "jax.config.update(\"jax_enable_x64\", True)\n"
      ],
      "metadata": {
        "id": "HaE58N-i67ag"
      },
      "execution_count": 4,
      "outputs": []
    },
    {
      "cell_type": "markdown",
      "source": [
        "$\\newcommand{\\sfT}{\\mathsf{T}}$\n",
        "The heat equation $\\partial_t p = D_0\\Delta_{S^n}p$ on the sphere $S^n$ has the kernel $p$ of the form\n",
        "\\begin{equation}p(x, y, t) = K_{D_0t}^d(\\varphi)\\; \\text{ with }\\varphi=\\cos^{-1}(x^{\\sfT}y)\n",
        "\\end{equation}\n",
        "satisfying the recursion \\cite{NSS}\n",
        "\\begin{equation}K^{d+2}_t(\\varphi) = -\\frac{e^{td}}{2\\pi}(\\sin\\varphi)^{-1}\\partial_{\\varphi}K^d_t(\\varphi), \\quad\\quad d\\geq 1\n",
        "\\end{equation}\n",
        "where $K^1_{\\varphi} = \\frac{1}{2\\pi}\\theta_3(\\frac{1}{2}\\varphi, e^{-t})$, where $\\theta_3$ is one of the Jacobi theta functions, computed  using the package mpmath. Derivatives of $\\theta_3$ in $\\varphi$ are also available. $\\theta_3$ satisfies a functional equation, we have\n",
        "\\begin{equation}\n",
        " \\frac{1}{2\\pi}\\theta_3(\\frac{1}{2}\\varphi, e^{-D_0t}) =\n",
        " \\frac{e^{-\\frac{\\varphi^2}{4tD_0}}}{(4D_0\\pi t)^{\\frac{1}{2}}}  \\\n",
        "   \\theta_3(\\frac{\\sqrt{-1}}{2}\\frac{\\pi\\varphi}{D_0t}, e^{-\\frac{\\pi^2}{D_0t}})\n",
        "\\end{equation}\n",
        "It is desirable to use the form on the right-hand side in practical simulation, as for small $t$ it converges faster, while the left side oscillates, however, I have  yet to encounter the problem. Taking the derivative in $\\phi$ gives us two expressions for $K^d_t$ with $d$ odd. For $d=2$, and then for even $d$, the left-hand side is a simpler sum, the right-hand side is expressed as an integral of theta functions and is rather complicated to compute, but approximations are  available.\n",
        "\n",
        "$$K^1_{\\phi} = \\frac{1}{(2\\pi)} \\theta_3(\\frac{1}{2}\\phi, e^{-t}, 0)$$\n",
        "\n",
        " Define recursively the Legendre polynomials $p_0=1,p_{1} = \\cos\\phi$\n",
        "For $i \\geq 1$,    \n",
        "\n",
        "$$ p_i = \\frac{1}{i}((2i-1)\\cos\\phi p_{i-1} - (i-1)p_{i-2})\\\\\n",
        "$$\n",
        "$$    K^2_{\\phi} = \\frac{1}{4\\pi}\\sum_{i=0}^{\\infty}e^{-i(i+1)t}(2i+1)p_{i}\\\\\n",
        "K^d_t = c_d\\int_{-1}^1K^{2d-1}_{t/4}(\\arccos(v\\cos\\frac{\\phi}{2})(1-v^2)^{\\frac{d-3}{2}}dv\n",
        "$$\n",
        "For $d = 2, c_2 = \\frac{2}{\\pi}$, set $v = \\sin u$, the heat kernel for the sphere with radius $r$ and diffusion coefficient $d_0$ is\n",
        "$$K^2_{\\frac{Td_0}{4r^2}}(u, \\phi)  =  c_2\\int_{-\\pi/2}^{\\pi/2}K^3_{\\frac{Td_0}{4r^2}}(\\arccos(\\sin(u)\\cos(\\phi/2))) du\n",
        "$$\n",
        "And the expectation is\n",
        "$$\\int_0^{\\pi} (\\sin(\\phi))^22\\pi f(\\phi)K^2_{\\frac{Td_0}{4r^2}}(u, \\phi)d\\phi  =  c_2\\int_0^{\\pi}\\int_{-\\pi/2}^{\\pi/2}K^3_{\\frac{Td_0}{4r^2}}(\\arccos(\\sin(u)\\cos(\\phi/2)))(\\sin(\\phi))^22\\pi du d_{\\phi}\n",
        "$$\n",
        "where $K^3$ is computed from $K^1$."
      ],
      "metadata": {
        "id": "LPIb5ouLf8cB"
      }
    },
    {
      "cell_type": "markdown",
      "source": [
        "Here are the tests for $1,2$ and $3$ dimensions:"
      ],
      "metadata": {
        "id": "hx6uBfUpPi52"
      }
    },
    {
      "cell_type": "code",
      "source": [
        "def test_1d():\n",
        "    key = random.PRNGKey(0)\n",
        "    key, sk = random.split(key)\n",
        "\n",
        "    d = 1\n",
        "\n",
        "    r = 1.2\n",
        "    t_final = 1.1\n",
        "\n",
        "    d0 = .4\n",
        "    n_path = 500\n",
        "    n_div = 200\n",
        "    sph = Sphere(d+1, r)\n",
        "\n",
        "    r = 4.\n",
        "    def fin(phi):\n",
        "        # return phi**1.5 + phi**2.5\n",
        "        # return phi**1.5 + phi**2.5 + phi**2.5\n",
        "        return phi**2\n",
        "\n",
        "    # new example\n",
        "    sph = Sphere(d+1, r)\n",
        "    sph_heat_kernel = np.trapz(\n",
        "        np.array([fin(min(aa, 2*np.pi-aa))*hkm.thk1(0, min(aa, 2*np.pi-aa), t_final, d0/r**2)\n",
        "                  for aa in np.arange(n_path+1)/n_path*np.pi]),\n",
        "        dx=2*np.pi/n_path)\n",
        "\n",
        "    # then change manifold range\n",
        "    sph_sum = fin(jnp.arccos(jnp.cos(jnp.sum(random.normal(sk, (n_div, n_path)), axis=0)*jnp.sqrt(t_final/(n_div)*2*d0)/r)))\n",
        "\n",
        "    # now random walk\n",
        "    xtmp = random.normal(sk, (d, n_div, n_path))\n",
        "    xw = xtmp/jnp.sqrt(jnp.sum(xtmp**2, axis=0))[None, :]*jnp.sqrt(t_final/(n_div)*2*d0)\n",
        "    sph_walk = jnp.mean(fin(jnp.arccos(jnp.cos(jnp.sum(xw, axis=1)/r))))\n",
        "\n",
        "    x_0 = jnp.zeros(d+1).at[0].set(sph.r)\n",
        "    sph_sim_geo = sim.simulate(\n",
        "        sph.x0,\n",
        "        lambda x, unit_move, scale: mi.geodesic_move(sph, x, unit_move, scale),\n",
        "        None,\n",
        "        lambda x: fin(sph.dist(x_0, x)/sph.r),\n",
        "        (sk, t_final, n_path, n_div, d0, d+1))\n",
        "\n",
        "    sph_sim_ito = sim.simulate(\n",
        "        sph.x0,\n",
        "        lambda x, unit_move, scale: mi.rbrownian_ito_move(sph, x, unit_move, scale),\n",
        "        None,\n",
        "        lambda x: fin(sph.dist(x_0, x)/sph.r),\n",
        "        (sk, t_final, n_path, n_div, d0, d+1))\n",
        "\n",
        "    sph_sim_strato = sim.simulate(\n",
        "        sph.x0,\n",
        "        lambda x, unit_move, scale: mi.rbrownian_stratonovich_move(sph, x, unit_move, scale),\n",
        "        None,\n",
        "        lambda x: fin(sph.dist(x_0, x)/sph.r),\n",
        "        (sk, t_final, n_path, n_div, d0, d+1))\n",
        "\n",
        "    print(f\"heat_kernels={sph_heat_kernel}\")\n",
        "    print(f\"sum_of_moves={jnp.mean(sph_sum)}\")\n",
        "    print(f\"random walk={sph_walk}\")\n",
        "\n",
        "    print(f\"geodesic={jnp.mean(sph_sim_geo[0])}\")\n",
        "    print(f\"ito={jnp.mean(sph_sim_ito[0])}\")\n",
        "    print(f\"strato={jnp.mean(sph_sim_strato[0])}\")\n",
        "\n",
        "test_1d()"
      ],
      "metadata": {
        "colab": {
          "base_uri": "https://localhost:8080/"
        },
        "id": "RM1tWy_NS0RA",
        "outputId": "438c3cbb-4c69-48ce-9675-6331adc90579"
      },
      "execution_count": 5,
      "outputs": [
        {
          "output_type": "stream",
          "name": "stdout",
          "text": [
            "heat_kernels=0.055\n",
            "sum_of_moves=0.05249187557005862\n",
            "random walk=0.051803399999999986\n",
            "geodesic=0.05300901418527616\n",
            "ito=0.053023444144691165\n",
            "strato=0.053006278779519224\n"
          ]
        }
      ]
    },
    {
      "cell_type": "code",
      "source": [
        "\n",
        "def test_2d():\n",
        "    from scipy.integrate import dblquad\n",
        "\n",
        "    key = random.PRNGKey(0)\n",
        "    key, sk = random.split(key)\n",
        "\n",
        "    d = 2\n",
        "    r = 3\n",
        "    t_final = 2.\n",
        "\n",
        "    d0 = .4\n",
        "    n_path = 1000\n",
        "    n_div = 1000\n",
        "    sph =Sphere(d+1, r)\n",
        "\n",
        "    def fin(phi):\n",
        "        return phi**2.5\n",
        "    # return phi**1.5 + phi**2.5\n",
        "    # return phi**1.5 + phi**2.5 + phi**2.5\n",
        "\n",
        "    sph_heat_kernel = jsi.trapezoid(\n",
        "        np.array([hkm.k2(phi, t_final*d0/r**2)*(np.sin(phi))*2*np.pi*fin(phi)\n",
        "                  for phi in np.arange(n_path+1)/n_path*np.pi]),\n",
        "        dx=np.pi/n_path)\n",
        "\n",
        "    # compute the 2d heat kernel by integrating the 3d\n",
        "\n",
        "    ss = dblquad(lambda u, phi: hkm.k3(np.arccos(np.sin(u)*np.cos(phi/2)), t_final*d0/sph.r**2/4)*(np.sin(phi))**2*2*np.pi*fin(phi), 0., np.pi, -np.pi/2., np.pi/2)\n",
        "    c2 = 2/np.pi\n",
        "    sph_heat_kernel_alt = ss[0]*c2\n",
        "\n",
        "    sph_sim_geo = sim.simulate(\n",
        "        sph.x0,\n",
        "        lambda x, unit_move, scale: mi.geodesic_move(sph, x, unit_move, scale),\n",
        "        None,\n",
        "        lambda x: fin(jnp.arccos(x[0]/sph.r)),\n",
        "        (sk, t_final, n_path, n_div, d0, d+1))\n",
        "\n",
        "    sph_sim_geo_norm = sim.simulate(\n",
        "        sph.x0,\n",
        "        lambda x, unit_move, scale: mi.geodesic_move_normalized(sph, x, unit_move, scale*d),\n",
        "        None,\n",
        "        lambda x: fin(jnp.arccos(x[0]/sph.r)),\n",
        "        (sk, t_final, n_path, n_div, d0, d+1))\n",
        "\n",
        "    sph_sim_ito = sim.simulate(\n",
        "        sph.x0,\n",
        "        lambda x, unit_move, scale: mi.rbrownian_ito_move(sph, x, unit_move, scale),\n",
        "        None,\n",
        "        lambda x: fin(jnp.arccos(x[0]/sph.r)),\n",
        "        (sk, t_final, n_path, n_div, d0, d+1))\n",
        "\n",
        "    sph_sim_strato = sim.simulate(\n",
        "        sph.x0,\n",
        "        lambda x, unit_move, scale: mi.rbrownian_stratonovich_move(sph, x, unit_move, scale),\n",
        "        None,\n",
        "        lambda x: fin(jnp.arccos(x[0]/sph.r)),\n",
        "        (sk, t_final, n_path, n_div, d0, d+1))\n",
        "\n",
        "    print(f\"heat_kernels={sph_heat_kernel}\")\n",
        "    print(f\"heat_kernels_alt={sph_heat_kernel_alt}\")\n",
        "\n",
        "    print(f\"geodesic={jnp.mean(sph_sim_geo[0])}\")\n",
        "    print(f\"geodesic={jnp.mean(sph_sim_geo_norm[0])}\")\n",
        "    print(f\"ito={jnp.mean(sph_sim_ito[0])}\")\n",
        "    print(f\"strato={jnp.mean(sph_sim_strato[0])}\")\n",
        "\n",
        "test_2d()"
      ],
      "metadata": {
        "colab": {
          "base_uri": "https://localhost:8080/"
        },
        "id": "wQoxnJDWQloH",
        "outputId": "b4d89466-b330-45a7-8cc0-5da38cbe6b1a"
      },
      "execution_count": 6,
      "outputs": [
        {
          "output_type": "stream",
          "name": "stdout",
          "text": [
            "heat_kernels=0.29940738111274223\n",
            "heat_kernels_alt=0.2706534545899766\n",
            "geodesic=0.2823254465952039\n",
            "geodesic=0.2882006825595556\n",
            "ito=0.28244562060757716\n",
            "strato=0.28249267581460963\n"
          ]
        }
      ]
    },
    {
      "cell_type": "code",
      "source": [
        "\n",
        "def test_3d():\n",
        "    key = random.PRNGKey(0)\n",
        "    key, sk = random.split(key)\n",
        "\n",
        "    n = 4\n",
        "\n",
        "    r = 3\n",
        "    t_final = 2.\n",
        "\n",
        "    d0 = .4\n",
        "    n_path = 1000\n",
        "    n_div = 1000\n",
        "    sph = Sphere(n, r)\n",
        "\n",
        "    def fin(phi):\n",
        "        # return phi**2.5\n",
        "        return phi**1.5 + phi**2.5\n",
        "    # return phi**1.5 + phi**2.5 + phi**2.5\n",
        "\n",
        "    sph_heat_kernel = jsi.trapezoid(\n",
        "        np.array([hkm.k3(phi, t_final*d0/r**2)*(np.sin(phi))**2*4*np.pi*fin(phi)\n",
        "                  for phi in np.arange(n_path+1)/n_path*np.pi]),\n",
        "        dx=np.pi/n_path)\n",
        "\n",
        "    sph_sim_geo = sim.simulate(\n",
        "        sph.x0,\n",
        "        lambda x, unit_move, scale: mi.geodesic_move(sph, x, unit_move, scale),\n",
        "        None,\n",
        "        lambda x: fin(jnp.arccos(x[0]/sph.r)),\n",
        "        (sk, t_final, n_path, n_div, d0, n))\n",
        "\n",
        "    sph_sim_geo_norm = sim.simulate(\n",
        "        sph.x0,\n",
        "        lambda x, unit_move, scale: mi.geodesic_move_normalized(sph, x, unit_move, scale*(n-1)),\n",
        "        None,\n",
        "        lambda x: fin(jnp.arccos(x[0]/sph.r)),\n",
        "        (sk, t_final, n_path, n_div, d0, n))\n",
        "\n",
        "\n",
        "    sph_sim_ito = sim.simulate(\n",
        "        sph.x0,\n",
        "        lambda x, unit_move, scale: mi.rbrownian_ito_move(sph, x, unit_move, scale),\n",
        "        None,\n",
        "        lambda x: fin(jnp.arccos(x[0]/sph.r)),\n",
        "        (sk, t_final, n_path, n_div, d0, n))\n",
        "\n",
        "    sph_sim_strato = sim.simulate(\n",
        "        sph.x0,\n",
        "        lambda x, unit_move, scale: mi.rbrownian_stratonovich_move(sph, x, unit_move, scale),\n",
        "        None,\n",
        "        lambda x: fin(jnp.arccos(x[0]/sph.r)),\n",
        "        (sk, t_final, n_path, n_div, d0, n))\n",
        "\n",
        "    print(f\"heat_kernels={sph_heat_kernel}\")\n",
        "\n",
        "    print(f\"geodesic={jnp.mean(sph_sim_geo[0])}\")\n",
        "    print(f\"geodesic={jnp.mean(sph_sim_geo_norm[0])}\")\n",
        "    print(f\"ito={jnp.mean(sph_sim_ito[0])}\")\n",
        "    print(f\"strato={jnp.mean(sph_sim_strato[0])}\")\n",
        "\n",
        "\n",
        "test_3d()\n"
      ],
      "metadata": {
        "colab": {
          "base_uri": "https://localhost:8080/"
        },
        "id": "n-U7BJIQQoJG",
        "outputId": "0f2e3d69-4ff8-4b17-8af7-ba8b5a7a92cd"
      },
      "execution_count": 7,
      "outputs": [
        {
          "output_type": "stream",
          "name": "stdout",
          "text": [
            "heat_kernels=1.023917151541904\n",
            "geodesic=1.0502866903715162\n",
            "geodesic=1.0664487173174357\n",
            "ito=1.0508031482726825\n",
            "strato=1.0507484072041133\n"
          ]
        }
      ]
    }
  ]
}