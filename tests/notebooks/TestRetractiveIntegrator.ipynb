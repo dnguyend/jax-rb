{
  "nbformat": 4,
  "nbformat_minor": 0,
  "metadata": {
    "colab": {
      "provenance": [],
      "authorship_tag": "ABX9TyMKTZa+6fIY8YtBOzUZ14CP",
      "include_colab_link": true
    },
    "kernelspec": {
      "name": "python3",
      "display_name": "Python 3"
    },
    "language_info": {
      "name": "python"
    }
  },
  "cells": [
    {
      "cell_type": "markdown",
      "metadata": {
        "id": "view-in-github",
        "colab_type": "text"
      },
      "source": [
        "<a href=\"https://colab.research.google.com/github/dnguyend/jax-rb/blob/main/tests/notebooks/TestRetractiveIntegrator.ipynb\" target=\"_parent\"><img src=\"https://colab.research.google.com/assets/colab-badge.svg\" alt=\"Open In Colab\"/></a>"
      ]
    },
    {
      "cell_type": "markdown",
      "source": [
        "# TESTING THE RETRACTIVE INTEGRATOR\n",
        "  * Since the package is not yet on pypi, use the dialog box below. Otherwise, on a terminal, download the repository then install locally.\n",
        "  \n",
        "\n",
        "  We show it step by step here, for other groups we will run one python script in folder tests (eg python test_so.py).\n"
      ],
      "metadata": {
        "id": "MUJswQQKwQkY"
      }
    },
    {
      "cell_type": "code",
      "source": [
        "!pip install git+https://github.com/dnguyend/jax-rb"
      ],
      "metadata": {
        "colab": {
          "base_uri": "https://localhost:8080/"
        },
        "id": "wpJ5PwCM-CIa",
        "outputId": "8808d884-4ece-4656-c147-15e0dc471d94"
      },
      "execution_count": 1,
      "outputs": [
        {
          "output_type": "stream",
          "name": "stdout",
          "text": [
            "Collecting git+https://github.com/dnguyend/jax-rb\n",
            "  Cloning https://github.com/dnguyend/jax-rb to /tmp/pip-req-build-k_78dp8m\n",
            "  Running command git clone --filter=blob:none --quiet https://github.com/dnguyend/jax-rb /tmp/pip-req-build-k_78dp8m\n",
            "  Resolved https://github.com/dnguyend/jax-rb to commit 894d295fc1b0d7499c1a80408eb5cf9425c17229\n",
            "  Installing build dependencies ... \u001b[?25l\u001b[?25hdone\n",
            "  Getting requirements to build wheel ... \u001b[?25l\u001b[?25hdone\n",
            "  Installing backend dependencies ... \u001b[?25l\u001b[?25hdone\n",
            "  Preparing metadata (pyproject.toml) ... \u001b[?25l\u001b[?25hdone\n",
            "Requirement already satisfied: jax in /usr/local/lib/python3.10/dist-packages (from jax_rb==0.1.dev35+g894d295) (0.4.26)\n",
            "Requirement already satisfied: ml-dtypes>=0.2.0 in /usr/local/lib/python3.10/dist-packages (from jax->jax_rb==0.1.dev35+g894d295) (0.2.0)\n",
            "Requirement already satisfied: numpy>=1.22 in /usr/local/lib/python3.10/dist-packages (from jax->jax_rb==0.1.dev35+g894d295) (1.25.2)\n",
            "Requirement already satisfied: opt-einsum in /usr/local/lib/python3.10/dist-packages (from jax->jax_rb==0.1.dev35+g894d295) (3.3.0)\n",
            "Requirement already satisfied: scipy>=1.9 in /usr/local/lib/python3.10/dist-packages (from jax->jax_rb==0.1.dev35+g894d295) (1.11.4)\n",
            "Building wheels for collected packages: jax_rb\n",
            "  Building wheel for jax_rb (pyproject.toml) ... \u001b[?25l\u001b[?25hdone\n",
            "  Created wheel for jax_rb: filename=jax_rb-0.1.dev35+g894d295-py3-none-any.whl size=33205 sha256=f2754ee85f902284dd947107cf84e8f9871c67ee68a74e8f3fe0cd3855a92f3a\n",
            "  Stored in directory: /tmp/pip-ephem-wheel-cache-9iczd_pm/wheels/0f/76/88/65e675f8bcca47be98c588d9a787a4c1c9b0a5044517ba6490\n",
            "Successfully built jax_rb\n",
            "Installing collected packages: jax_rb\n",
            "Successfully installed jax_rb-0.1.dev35+g894d295\n"
          ]
        }
      ]
    },
    {
      "cell_type": "markdown",
      "source": [
        "## The manifold\n",
        "The manifold is defined by one equation of the form $C(x) = \\sum_i d_ix_i^p=1$ with the embedded metric.\n",
        "* Brownian motion, thus, could be simulated with the integrator using nearest point retraction\n",
        "* We show it could also be simulated with the integrator using the rescaling retraction.\n",
        "$$\\mathfrak{r}(x, v) = C(x+v)^{1/p}(x+v)\n",
        "$$\n",
        "\n",
        "* Basic functionality of the class DiagHypersurface is tested in the test folder (tests/test_diag_hypersurface.py). We test the integrator here.\n",
        "* We can verify for $x=(x_i)_{i=1}^n, v=(v_i)_{i=1}^n$\n",
        "$$\\mathfrak{r}(x, tv) = x + tv + \\frac{(1-p)t^2(\\sum d_ix_i^{p-2}v_i^2)}{2}x+O(t^3)\n",
        "$$\n",
        "The Ito adjustment is in class rtr, equal to\n",
        "$$-\\frac{(1-p)t^2(\\sum_{ij} d_ix_i^{p-2}(\\sigma e_j)_i^2)}{2}x\n",
        "$$"
      ],
      "metadata": {
        "id": "36nmu8MPHSfc"
      }
    },
    {
      "cell_type": "code",
      "execution_count": 2,
      "metadata": {
        "id": "QYVLILrQRLLO"
      },
      "outputs": [],
      "source": [
        "import jax\n",
        "import jax.numpy as jnp\n",
        "from jax import random, jvp, vmap\n",
        "\n",
        "from jax_rb.manifolds.diag_hypersurface import DiagHypersurface\n",
        "from jax_rb.utils.utils import (grand)\n",
        "import jax_rb.simulation.simulator as sim\n",
        "import jax_rb.simulation.global_manifold_integrator as gmi\n",
        "import jax_rb.simulation.retractive_integrator as rmi\n",
        "jax.config.update(\"jax_enable_x64\", True)"
      ]
    },
    {
      "cell_type": "markdown",
      "source": [
        "## The rescaling retraction"
      ],
      "metadata": {
        "id": "bn1DIGtQvPQ1"
      }
    },
    {
      "cell_type": "code",
      "source": [
        "class rescale_retraction():\n",
        "    \"\"\"the rescaling retraction on\n",
        "    diagonal constrained hypersurface\n",
        "    \"\"\"\n",
        "    def __init__(self, mnf):\n",
        "        self.mnf = mnf\n",
        "\n",
        "    def retract(self, x, v):\n",
        "        \"\"\"rescaling :math:`x+v` to be on the hypersurface\n",
        "        \"\"\"\n",
        "        val = self.mnf.cfunc(x+v)\n",
        "        return (x+v)/val**(1/self.mnf.p)\n",
        "\n",
        "    def hess(self, x, v):\n",
        "        \"\"\"hessian of the rescaling\n",
        "        \"\"\"\n",
        "        p = self.mnf.p\n",
        "        dvec = self.mnf.dvec\n",
        "        return (1-p)*x*jnp.sum(dvec*x**(p-2)*v*v)\n",
        "\n",
        "    def drift_adjust(self, sigma, x, t, driver_dim):\n",
        "        \"\"\"return the adjustment :math:`\\\\mu_{adj}`\n",
        "        so that :math:`\\\\mu + \\\\mu_{adj} = \\\\mu_{\\\\mathfrak{r}}`\n",
        "        \"\"\"\n",
        "        return -0.5*jnp.sum(vmap(lambda seq:\n",
        "                                 self.hess(x, sigma(x, t, seq)))(jnp.eye(driver_dim)),\n",
        "                            axis=0)\n"
      ],
      "metadata": {
        "id": "mIbxYgIAvuRx"
      },
      "execution_count": 3,
      "outputs": []
    },
    {
      "cell_type": "markdown",
      "source": [
        "## Test the retraction has the required properties"
      ],
      "metadata": {
        "id": "umfUNVfXwe8v"
      }
    },
    {
      "cell_type": "code",
      "source": [
        "n = 5\n",
        "p = 2\n",
        "key = random.PRNGKey(0)\n",
        "dvec, key = grand(key, (n,))\n",
        "dvec = dvec.at[-1].set(1.)\n",
        "\n",
        "mnf = DiagHypersurface(dvec, p)\n",
        "x, key = mnf.rand_point(key)\n",
        "# now test retract\n",
        "while True:\n",
        "    q, key = mnf.rand_ambient(key)\n",
        "    if mnf.cfunc(q) > 0:\n",
        "        xq = mnf.approx_nearest(q)\n",
        "        break\n",
        "print(f\"test apprx nearest C(q)={mnf.cfunc(q)}, C(x)={mnf.cfunc(xq)}\")\n",
        "\n",
        "# now tangent.\n",
        "xi, key = mnf.rand_vec(key, x)\n",
        "rtr = rescale_retraction(mnf)\n",
        "v = .01*xi\n",
        "x1 = rtr.retract(x, v)\n",
        "print(f\"test retract C(rtr.retract(x, v)={mnf.cfunc(x1)}\")\n",
        "\n",
        "def rt(t):\n",
        "    return rtr.retract(x, t*v)\n",
        "\n",
        "def dr(t):\n",
        "    p = rtr.mnf.p\n",
        "    cft = rtr.mnf.cfunc(x+t*v)\n",
        "    return -1/p*cft**(-1-1/p)*jnp.sum(rtr.mnf.grad_c(x+t*v)*v)*(x+t*v) \\\n",
        "        + cft**(-1/p)*v\n",
        "\n",
        "print(\"test deriv and hess of retract\")\n",
        "print(jvp(rt, (.1,), (1.,))[1])\n",
        "print(dr(.1))\n",
        "print(jvp(dr, (0.,), (1.,))[1])\n",
        "print(rtr.hess(x, v))\n",
        "\n",
        "gsum = jnp.zeros(n)\n",
        "hsum = jnp.zeros(n)\n",
        "for i in range(n):\n",
        "    nsg = mnf.proj(x, mnf.sigma(x, jnp.zeros(n).at[i].set(1.)))\n",
        "    hsum += -rtr.hess(x, nsg)\n",
        "    gsum += - mnf.gamma(x, nsg, nsg)\n",
        "    # print(jnp.sum(mnf.grad_c(x)*(hsum-gsum)))\n",
        "\n",
        "print(f\"test sum -gamma - ito drift={0.5*gsum - mnf.ito_drift(x)}\")\n",
        "print(f\"test adjusted ito is tangent={jnp.sum(mnf.grad_c(x)*(0.5*hsum+mnf.ito_drift(x)))}\")\n",
        "\n",
        "# now test the equation.\n",
        "# test Brownian motion\n",
        "\n"
      ],
      "metadata": {
        "colab": {
          "base_uri": "https://localhost:8080/"
        },
        "id": "Hp0BDZJowmDX",
        "outputId": "8c5269b0-7c6c-4198-c1de-79cfa1c5182b"
      },
      "execution_count": 4,
      "outputs": [
        {
          "output_type": "stream",
          "name": "stdout",
          "text": [
            "test apprx nearest C(q)=0.11321789016690081, C(x)=1.0000000000000002\n",
            "test retract C(rtr.retract(x, v)=1.0000000000000002\n",
            "test deriv and hess of retract\n",
            "[ 0.00024948  0.02365371 -0.00926304  0.01827491  0.00802626]\n",
            "[ 0.00024948  0.02365371 -0.00926304  0.01827491  0.00802626]\n",
            "[-1.21630899e-05  2.07281857e-04 -5.59875159e-05  1.11632152e-04\n",
            "  1.39241311e-04]\n",
            "[-1.21630899e-05  2.07281857e-04 -5.59875159e-05  1.11632152e-04\n",
            "  1.39241311e-04]\n",
            "test sum -gamma - ito drift=[-1.73472348e-18 -3.46944695e-18  0.00000000e+00  0.00000000e+00\n",
            "  0.00000000e+00]\n",
            "test adjusted ito is tangent=-5.967448757360216e-16\n"
          ]
        }
      ]
    },
    {
      "cell_type": "markdown",
      "source": [
        "# check the stratonovich and the ito drift given in the library is the same as the summation in the main theorem."
      ],
      "metadata": {
        "id": "NJU1ag3Qw4zn"
      }
    },
    {
      "cell_type": "code",
      "source": [
        "def new_sigma(x, _, dw):\n",
        "    return mnf.proj(x, mnf.sigma(x, dw))\n",
        "\n",
        "def mu(x, _):\n",
        "    return mnf.ito_drift(x)\n",
        "\n",
        "pay_offs = [lambda x, t: t*jnp.sum(x*jnp.arange(n)),\n",
        "            lambda x: jnp.sum(x*x)]\n",
        "\n",
        "key, sk = random.split(key)\n",
        "t_final = 1.\n",
        "n_path = 1000\n",
        "n_div = 1000\n",
        "d_coeff = .5\n",
        "wiener_dim = n\n",
        "x_0 = jnp.zeros(n).at[-1].set(1)\n",
        "\n",
        "ret_geo = sim.simulate(x_0,\n",
        "                        lambda x, unit_move, scale: gmi.geodesic_move(\n",
        "                            mnf, x, unit_move, scale),\n",
        "                        pay_offs[0],\n",
        "                        pay_offs[1],\n",
        "                        [sk, t_final, n_path, n_div, d_coeff, wiener_dim])\n",
        "\n",
        "ret_ito = sim.simulate(x_0,\n",
        "                        lambda x, unit_move, scale: gmi.rbrownian_ito_move(\n",
        "                            mnf, x, unit_move, scale),\n",
        "                        pay_offs[0],\n",
        "                        pay_offs[1],\n",
        "                        [sk, t_final, n_path, n_div, d_coeff, wiener_dim])\n",
        "\n",
        "ret_str = sim.simulate(x_0,\n",
        "                        lambda x, unit_move, scale: gmi.rbrownian_stratonovich_move(\n",
        "                            mnf, x, unit_move, scale),\n",
        "                        pay_offs[0],\n",
        "                        pay_offs[1],\n",
        "                        [sk, t_final, n_path, n_div, d_coeff, wiener_dim])\n",
        "\n",
        "ret_rtr = sim.simulate(x_0,\n",
        "                        lambda x, unit_move, scale: rmi.retractive_move(\n",
        "                            rtr, x, None, unit_move, scale, new_sigma, mu),\n",
        "                        pay_offs[0],\n",
        "                        pay_offs[1],\n",
        "                        [sk, t_final, n_path, n_div, d_coeff, wiener_dim])\n",
        "\n",
        "ret_nrtr = sim.simulate(x_0,\n",
        "                        lambda x, unit_move, scale: rmi.retractive_move_normalized(\n",
        "                            rtr, x, None, unit_move, scale, new_sigma, mu),\n",
        "                        pay_offs[0],\n",
        "                        pay_offs[1],\n",
        "                        [sk, t_final, n_path, n_div, d_coeff, wiener_dim])\n",
        "\n",
        "print(f\"geo second order = {jnp.nanmean(ret_geo[0])}\")\n",
        "print(f\"Ito              = {jnp.nanmean(ret_ito[0])}\")\n",
        "print(f\"Stratonovich     = {jnp.nanmean(ret_str[0])}\")\n",
        "print(f\"Retractive       = {jnp.nanmean(ret_rtr[0])}\")\n",
        "print(f\"Retractive Norm. = {jnp.nanmean(ret_nrtr[0])}\")\n",
        "\n"
      ],
      "metadata": {
        "colab": {
          "base_uri": "https://localhost:8080/"
        },
        "id": "ZzWoHvlcv3nO",
        "outputId": "49b4dde5-9bf3-4c2c-f6a0-ce9e994b4508"
      },
      "execution_count": 5,
      "outputs": [
        {
          "output_type": "stream",
          "name": "stdout",
          "text": [
            "geo second order = 8.616377076786248\n",
            "Ito              = 8.617933533688669\n",
            "Stratonovich     = 8.594460387538478\n",
            "Retractive       = 8.628692203861034\n",
            "Retractive Norm. = 8.65157317775276\n"
          ]
        }
      ]
    }
  ]
}